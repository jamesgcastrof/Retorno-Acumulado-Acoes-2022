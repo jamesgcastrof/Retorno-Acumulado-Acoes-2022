{
  "nbformat": 4,
  "nbformat_minor": 0,
  "metadata": {
    "colab": {
      "provenance": [],
      "authorship_tag": "ABX9TyOn3wjqZaCcRtfrERF1n3En",
      "include_colab_link": true
    },
    "kernelspec": {
      "name": "python3",
      "display_name": "Python 3"
    },
    "language_info": {
      "name": "python"
    }
  },
  "cells": [
    {
      "cell_type": "markdown",
      "metadata": {
        "id": "view-in-github",
        "colab_type": "text"
      },
      "source": [
        "<a href=\"https://colab.research.google.com/github/jamesgcastrof/Retorno-Acumulado-Acoes-2022/blob/main/Retorno_Acumulado_Acoes_2022.ipynb\" target=\"_parent\"><img src=\"https://colab.research.google.com/assets/colab-badge.svg\" alt=\"Open In Colab\"/></a>"
      ]
    },
    {
      "cell_type": "code",
      "source": [
        "# Importar as bibliotecas necessárias\n",
        "import pandas as pd\n",
        "import yfinance as yf\n",
        "\n",
        "# Definir os tickers das ações\n",
        "tickers = [\"PETR4.SA\", \"VALE3.SA\", \"ITUB4.SA\"]\n",
        "\n",
        "# Obter os dados das ações\n",
        "dados = yf.download(tickers, start=\"2022-01-01\", end=\"2022-12-31\")\n",
        "\n",
        "# Exibir os dados\n",
        "print(dados)\n"
      ],
      "metadata": {
        "id": "FI10u2d1Tev5"
      },
      "execution_count": null,
      "outputs": []
    },
    {
      "cell_type": "code",
      "source": [
        "# Importar as bibliotecas necessárias\n",
        "import pandas as pd\n",
        "import yfinance as yf\n",
        "\n",
        "# Definir os tickers das ações\n",
        "tickers = [\"PETR4.SA\", \"VALE3.SA\", \"ITUB4.SA\"]\n",
        "\n",
        "# Obter os dados das ações\n",
        "dados = yf.download(tickers, start=\"2022-01-01\", end=\"2022-12-31\")\n",
        "\n",
        "# Criar um DataFrame com os dados\n",
        "df = pd.DataFrame(dados)\n",
        "\n",
        "# Exibir o DataFrame\n",
        "print(df)\n"
      ],
      "metadata": {
        "id": "6ABpVNGbTzwR"
      },
      "execution_count": null,
      "outputs": []
    },
    {
      "cell_type": "markdown",
      "source": [
        "Este código salva o DataFrame retorno_acumulado em um arquivo chamado “retorno_acumulado.xlsx”. Você pode abrir este arquivo no Excel para visualizar os dados"
      ],
      "metadata": {
        "id": "MkqdaJS-mC7U"
      }
    },
    {
      "cell_type": "code",
      "source": [
        "# Importar as bibliotecas necessárias\n",
        "import pandas as pd\n",
        "import yfinance as yf\n",
        "\n",
        "# Definir os tickers das ações\n",
        "tickers = [\"PETR4.SA\", \"VALE3.SA\", \"ITUB4.SA\"]\n",
        "\n",
        "# Definir o período de análise\n",
        "inicio = \"2022-01-01\"\n",
        "fim = \"2022-12-31\"\n",
        "\n",
        "# Obter os dados das ações\n",
        "dados = yf.download(tickers, start=inicio, end=fim)\n",
        "\n",
        "# Criar um DataFrame com os dados\n",
        "df = pd.DataFrame(dados)\n",
        "\n",
        "# Calcular o retorno diário das ações\n",
        "retorno = df.pct_change()\n",
        "\n",
        "# Tratar valores negativos ou nulos antes de calcular o retorno acumulado\n",
        "retorno[retorno < 0] = 0\n",
        "retorno.fillna(retorno.mean(), inplace=True)\n",
        "\n",
        "# Calcular o retorno acumulado das ações\n",
        "retorno_acumulado = (1 + retorno).cumprod()\n",
        "retorno_acumulado.iloc[0] = 1\n",
        "\n",
        "# Salvar o DataFrame em um arquivo Excel\n",
        "retorno_acumulado.to_excel(\"retorno_acumulado.xlsx\")\n",
        "\n",
        "print(retorno_acumulado)\n"
      ],
      "metadata": {
        "id": "V0ZrzwsEUc8u"
      },
      "execution_count": null,
      "outputs": []
    },
    {
      "cell_type": "code",
      "source": [
        "# Importar as bibliotecas necessárias\n",
        "import pandas as pd\n",
        "import yfinance as yf\n",
        "import matplotlib.pyplot as plt\n",
        "\n",
        "# Definir os tickers das ações\n",
        "tickers = [\"PETR4.SA\", \"VALE3.SA\", \"ITUB4.SA\"]\n",
        "\n",
        "# Definir o período de análise\n",
        "inicio = \"2022-01-01\"\n",
        "fim = \"2022-06-30\"  # Fim do primeiro semestre\n",
        "\n",
        "# Obter os dados das ações\n",
        "dados = yf.download(tickers, start=inicio, end=fim)\n",
        "\n",
        "# Calcular o retorno diário das ações\n",
        "retorno = dados['Adj Close'].pct_change()\n",
        "\n",
        "# Tratar valores negativos ou nulos antes de calcular o retorno acumulado\n",
        "retorno.fillna(0, inplace=True)\n",
        "\n",
        "# Calcular o retorno acumulado das ações\n",
        "retorno_acumulado = (1 + retorno).cumprod()\n",
        "retorno_acumulado.iloc[0] = 1\n",
        "\n",
        "# Definir as cores para cada ação\n",
        "cores = {'PETR4.SA': 'blue', 'VALE3.SA': 'red', 'ITUB4.SA': 'green'}\n",
        "\n",
        "# Criar um único gráfico para todas as ações\n",
        "plt.figure(figsize=(10,5))\n",
        "for ticker in tickers:\n",
        "    plt.plot(retorno_acumulado[ticker], color=cores[ticker], label=ticker)\n",
        "plt.title('Retorno Acumulado no Primeiro Semestre de 2022')\n",
        "plt.xlabel('Data')\n",
        "plt.ylabel('Retorno Acumulado')\n",
        "plt.legend()\n",
        "plt.grid(True)\n",
        "plt.show()\n"
      ],
      "metadata": {
        "id": "eMf6XsRwaAJv"
      },
      "execution_count": null,
      "outputs": []
    },
    {
      "cell_type": "markdown",
      "source": [
        "Este código em Python é usado para analisar o desempenho de três ações (PETR4.SA, VALE3.SA, ITUB4.SA) ao longo do ano de 2022."
      ],
      "metadata": {
        "id": "ZkvLBiKxmPD0"
      }
    },
    {
      "cell_type": "code",
      "source": [
        "# Importar as bibliotecas necessárias\n",
        "import pandas as pd\n",
        "import yfinance as yf\n",
        "import matplotlib.pyplot as plt\n",
        "\n",
        "# Definir os tickers das ações\n",
        "tickers = [\"PETR4.SA\", \"VALE3.SA\", \"ITUB4.SA\"]\n",
        "\n",
        "# Definir o período de análise\n",
        "inicio = \"2022-01-01\"\n",
        "fim = \"2022-12-31\"\n",
        "\n",
        "# Obter os dados das ações\n",
        "dados = yf.download(tickers, start=inicio, end=fim)\n",
        "\n",
        "# Calcular o retorno diário das ações\n",
        "retorno = dados['Adj Close'].pct_change()\n",
        "\n",
        "# Tratar valores negativos ou nulos antes de calcular o retorno acumulado\n",
        "retorno.fillna(0, inplace=True)\n",
        "\n",
        "# Calcular o retorno acumulado das ações\n",
        "retorno_acumulado = (1 + retorno).cumprod()\n",
        "retorno_acumulado.iloc[0] = 1\n",
        "\n",
        "# Definir as cores para cada ação\n",
        "cores = {'PETR4.SA': 'blue', 'VALE3.SA': 'red', 'ITUB4.SA': 'green'}\n",
        "\n",
        "# Criar um único gráfico para todas as ações\n",
        "plt.figure(figsize=(10,5))\n",
        "for ticker in tickers:\n",
        "    plt.plot(retorno_acumulado[ticker], color=cores[ticker], label=ticker)\n",
        "plt.title('Retorno Acumulado em 2022')\n",
        "plt.xlabel('Data')\n",
        "plt.ylabel('Retorno Acumulado')\n",
        "plt.legend()\n",
        "plt.grid(True)\n",
        "plt.show()\n",
        "\n",
        "# Calcular o retorno total no final do período para cada ação\n",
        "retorno_total = retorno_acumulado.iloc[-1] - 1\n",
        "\n",
        "# Criar um gráfico de barras para mostrar o retorno total de cada ação\n",
        "plt.figure(figsize=(10,5))\n",
        "plt.bar(tickers, retorno_total, color=[cores[ticker] for ticker in tickers])\n",
        "plt.title('Retorno Total em 2022')\n",
        "plt.xlabel('Ação')\n",
        "plt.ylabel('Retorno Total')\n",
        "plt.grid(True)\n",
        "plt.show()\n"
      ],
      "metadata": {
        "id": "3sORpOObayVg"
      },
      "execution_count": null,
      "outputs": []
    },
    {
      "cell_type": "markdown",
      "source": [
        "Este código em Python é usado para analisar o desempenho de três ações (PETR4.SA, VALE3.SA, ITUB4.SA) ao longo do ano de 2022 e criar um gráfico interativo do retorno acumulado dessas ações."
      ],
      "metadata": {
        "id": "sfGm7l6Zm1NK"
      }
    },
    {
      "cell_type": "code",
      "source": [
        "import pandas as pd\n",
        "import yfinance as yf\n",
        "import plotly.graph_objects as go\n",
        "\n",
        "# Definir os tickers das ações\n",
        "tickers = [\"PETR4.SA\", \"VALE3.SA\", \"ITUB4.SA\"]\n",
        "\n",
        "# Definir o período de análise\n",
        "inicio = \"2022-01-01\"\n",
        "fim = \"2022-12-31\"\n",
        "\n",
        "# Obter os dados das ações\n",
        "dados = yf.download(tickers, start=inicio, end=fim)\n",
        "\n",
        "# Calcular o retorno diário das ações\n",
        "retorno = dados['Adj Close'].pct_change()\n",
        "\n",
        "# Tratar valores negativos ou nulos antes de calcular o retorno acumulado\n",
        "retorno.fillna(0, inplace=True)\n",
        "\n",
        "# Calcular o retorno acumulado das ações\n",
        "retorno_acumulado = (1 + retorno).cumprod()\n",
        "retorno_acumulado.iloc[0] = 1\n",
        "\n",
        "# Criar um gráfico interativo\n",
        "fig = go.Figure()\n",
        "\n",
        "for ticker in tickers:\n",
        "    fig.add_trace(go.Scatter(x=retorno_acumulado.index, y=retorno_acumulado[ticker], mode='lines', name=ticker))\n",
        "\n",
        "fig.update_layout(title='Retorno Acumulado em 2022', xaxis_title='Data', yaxis_title='Retorno Acumulado')\n",
        "\n",
        "fig.show()\n"
      ],
      "metadata": {
        "id": "wvBh6sktbr_W"
      },
      "execution_count": null,
      "outputs": []
    }
  ]
}